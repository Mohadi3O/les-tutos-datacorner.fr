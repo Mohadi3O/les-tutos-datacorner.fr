{
 "cells": [
  {
   "cell_type": "code",
   "execution_count": 104,
   "metadata": {},
   "outputs": [],
   "source": [
    "import pandas as pd"
   ]
  },
  {
   "cell_type": "markdown",
   "metadata": {},
   "source": [
    "# Récupération des données"
   ]
  },
  {
   "cell_type": "markdown",
   "metadata": {},
   "source": [
    "## Jeu de données de base"
   ]
  },
  {
   "cell_type": "code",
   "execution_count": 156,
   "metadata": {},
   "outputs": [
    {
     "data": {
      "text/html": [
       "<div>\n",
       "<style scoped>\n",
       "    .dataframe tbody tr th:only-of-type {\n",
       "        vertical-align: middle;\n",
       "    }\n",
       "\n",
       "    .dataframe tbody tr th {\n",
       "        vertical-align: top;\n",
       "    }\n",
       "\n",
       "    .dataframe thead th {\n",
       "        text-align: right;\n",
       "    }\n",
       "</style>\n",
       "<table border=\"1\" class=\"dataframe\">\n",
       "  <thead>\n",
       "    <tr style=\"text-align: right;\">\n",
       "      <th></th>\n",
       "      <th>Note</th>\n",
       "      <th>Description</th>\n",
       "      <th>key</th>\n",
       "    </tr>\n",
       "  </thead>\n",
       "  <tbody>\n",
       "    <tr>\n",
       "      <th>0</th>\n",
       "      <td>3,0</td>\n",
       "      <td>Suite de \"Bigfoot Junior\" sorti en 2017, revoi...</td>\n",
       "      <td>0</td>\n",
       "    </tr>\n",
       "    <tr>\n",
       "      <th>1</th>\n",
       "      <td>3,0</td>\n",
       "      <td>malgré un scénario moyen ce film  d animation ...</td>\n",
       "      <td>1</td>\n",
       "    </tr>\n",
       "    <tr>\n",
       "      <th>2</th>\n",
       "      <td>3,0</td>\n",
       "      <td>Un debut laborieux qui se veut dans l'air du t...</td>\n",
       "      <td>2</td>\n",
       "    </tr>\n",
       "    <tr>\n",
       "      <th>3</th>\n",
       "      <td>3,5</td>\n",
       "      <td>Film vu au cinéma. \\nTout d'abord, les graphis...</td>\n",
       "      <td>3</td>\n",
       "    </tr>\n",
       "    <tr>\n",
       "      <th>4</th>\n",
       "      <td>5,0</td>\n",
       "      <td>Nous avons adoré avec mon fils. Je trouve que ...</td>\n",
       "      <td>4</td>\n",
       "    </tr>\n",
       "  </tbody>\n",
       "</table>\n",
       "</div>"
      ],
      "text/plain": [
       "  Note                                        Description  key\n",
       "0  3,0  Suite de \"Bigfoot Junior\" sorti en 2017, revoi...    0\n",
       "1  3,0  malgré un scénario moyen ce film  d animation ...    1\n",
       "2  3,0  Un debut laborieux qui se veut dans l'air du t...    2\n",
       "3  3,5  Film vu au cinéma. \\nTout d'abord, les graphis...    3\n",
       "4  5,0  Nous avons adoré avec mon fils. Je trouve que ...    4"
      ]
     },
     "execution_count": 156,
     "metadata": {},
     "output_type": "execute_result"
    }
   ],
   "source": [
    "fichiersource = \"../../datasources/films/allocine_bigfoot_avis.csv\"\n",
    "src = pd.read_csv(fichiersource)\n",
    "src.head()"
   ]
  },
  {
   "cell_type": "code",
   "execution_count": 164,
   "metadata": {},
   "outputs": [
    {
     "data": {
      "text/plain": [
       "'malgré un scénario moyen ce film  d animation se regarde bien même.si.la mise en route est difficile et que tout le début soit dans.la.bande annonce.\\nle film est visuellement très beau également'"
      ]
     },
     "execution_count": 164,
     "metadata": {},
     "output_type": "execute_result"
    }
   ],
   "source": [
    "src['Description'][1]"
   ]
  },
  {
   "cell_type": "markdown",
   "metadata": {},
   "source": [
    "## Création du vecteur de résultat (classe binaire)"
   ]
  },
  {
   "cell_type": "code",
   "execution_count": 165,
   "metadata": {},
   "outputs": [],
   "source": [
    "def setClassBin(i):\n",
    "    if (float(i.replace(',', '.')) > 3):\n",
    "        return 1\n",
    "    else:\n",
    "        return 0\n",
    "\n",
    "yList = [setClassBin(x) for x in src.Note]\n",
    "y = pd.DataFrame(yList)"
   ]
  },
  {
   "cell_type": "code",
   "execution_count": 166,
   "metadata": {},
   "outputs": [
    {
     "data": {
      "text/html": [
       "<div>\n",
       "<style scoped>\n",
       "    .dataframe tbody tr th:only-of-type {\n",
       "        vertical-align: middle;\n",
       "    }\n",
       "\n",
       "    .dataframe tbody tr th {\n",
       "        vertical-align: top;\n",
       "    }\n",
       "\n",
       "    .dataframe thead th {\n",
       "        text-align: right;\n",
       "    }\n",
       "</style>\n",
       "<table border=\"1\" class=\"dataframe\">\n",
       "  <thead>\n",
       "    <tr style=\"text-align: right;\">\n",
       "      <th></th>\n",
       "      <th>0</th>\n",
       "    </tr>\n",
       "  </thead>\n",
       "  <tbody>\n",
       "    <tr>\n",
       "      <th>0</th>\n",
       "      <td>0</td>\n",
       "    </tr>\n",
       "    <tr>\n",
       "      <th>1</th>\n",
       "      <td>0</td>\n",
       "    </tr>\n",
       "    <tr>\n",
       "      <th>2</th>\n",
       "      <td>0</td>\n",
       "    </tr>\n",
       "    <tr>\n",
       "      <th>3</th>\n",
       "      <td>1</td>\n",
       "    </tr>\n",
       "    <tr>\n",
       "      <th>4</th>\n",
       "      <td>1</td>\n",
       "    </tr>\n",
       "  </tbody>\n",
       "</table>\n",
       "</div>"
      ],
      "text/plain": [
       "   0\n",
       "0  0\n",
       "1  0\n",
       "2  0\n",
       "3  1\n",
       "4  1"
      ]
     },
     "execution_count": 166,
     "metadata": {},
     "output_type": "execute_result"
    }
   ],
   "source": [
    "y.head()"
   ]
  },
  {
   "cell_type": "markdown",
   "metadata": {},
   "source": [
    "## Jeu de données pour l'apprentissage"
   ]
  },
  {
   "cell_type": "code",
   "execution_count": 167,
   "metadata": {},
   "outputs": [
    {
     "data": {
      "text/html": [
       "<div>\n",
       "<style scoped>\n",
       "    .dataframe tbody tr th:only-of-type {\n",
       "        vertical-align: middle;\n",
       "    }\n",
       "\n",
       "    .dataframe tbody tr th {\n",
       "        vertical-align: top;\n",
       "    }\n",
       "\n",
       "    .dataframe thead th {\n",
       "        text-align: right;\n",
       "    }\n",
       "</style>\n",
       "<table border=\"1\" class=\"dataframe\">\n",
       "  <thead>\n",
       "    <tr style=\"text-align: right;\">\n",
       "      <th></th>\n",
       "      <th>Description</th>\n",
       "      <th>key</th>\n",
       "    </tr>\n",
       "  </thead>\n",
       "  <tbody>\n",
       "    <tr>\n",
       "      <th>0</th>\n",
       "      <td>Suite de \"Bigfoot Junior\" sorti en 2017, revoi...</td>\n",
       "      <td>0</td>\n",
       "    </tr>\n",
       "    <tr>\n",
       "      <th>1</th>\n",
       "      <td>malgré un scénario moyen ce film  d animation ...</td>\n",
       "      <td>1</td>\n",
       "    </tr>\n",
       "    <tr>\n",
       "      <th>2</th>\n",
       "      <td>Un debut laborieux qui se veut dans l'air du t...</td>\n",
       "      <td>2</td>\n",
       "    </tr>\n",
       "    <tr>\n",
       "      <th>3</th>\n",
       "      <td>Film vu au cinéma. \\nTout d'abord, les graphis...</td>\n",
       "      <td>3</td>\n",
       "    </tr>\n",
       "    <tr>\n",
       "      <th>4</th>\n",
       "      <td>Nous avons adoré avec mon fils. Je trouve que ...</td>\n",
       "      <td>4</td>\n",
       "    </tr>\n",
       "  </tbody>\n",
       "</table>\n",
       "</div>"
      ],
      "text/plain": [
       "                                         Description  key\n",
       "0  Suite de \"Bigfoot Junior\" sorti en 2017, revoi...    0\n",
       "1  malgré un scénario moyen ce film  d animation ...    1\n",
       "2  Un debut laborieux qui se veut dans l'air du t...    2\n",
       "3  Film vu au cinéma. \\nTout d'abord, les graphis...    3\n",
       "4  Nous avons adoré avec mon fils. Je trouve que ...    4"
      ]
     },
     "execution_count": 167,
     "metadata": {},
     "output_type": "execute_result"
    }
   ],
   "source": [
    "X = src.drop('Note', axis=1)\n",
    "X.head()"
   ]
  },
  {
   "cell_type": "markdown",
   "metadata": {},
   "source": [
    "# Préparation des données"
   ]
  },
  {
   "cell_type": "markdown",
   "metadata": {},
   "source": [
    "### Retire les éléments de ponctuation ..."
   ]
  },
  {
   "cell_type": "code",
   "execution_count": 168,
   "metadata": {},
   "outputs": [],
   "source": [
    "import re\n",
    "\n",
    "REMPLACE_SANS_ESPACE = re.compile(\"[;:!\\'?,\\\"()\\[\\]]\")\n",
    "REMPLACE_AVEC_ESPACE = re.compile(\"(<br\\s*/><br\\s*/>)|(\\-)|(\\/)|[.]\")\n",
    "PUR_NOMBRE = re.compile(\"[0-9]\")\n",
    "\n",
    "def preprocess_reviews(reviews):\n",
    "    reviews = [PUR_NOMBRE.sub(\"\", line.lower()) for line in reviews] # retire les nomre (comme les années)\n",
    "    reviews = [line.replace('\\n', ' ')  for line in reviews] # Retire les \\n (retours chariots)\n",
    "    reviews = [REMPLACE_SANS_ESPACE.sub(\"\", line.lower()) for line in reviews]\n",
    "    reviews = [REMPLACE_AVEC_ESPACE.sub(\" \", line) for line in reviews]\n",
    "    return reviews\n",
    "\n",
    "X['Description'] = pd.DataFrame(preprocess_reviews(X['Description']))"
   ]
  },
  {
   "cell_type": "code",
   "execution_count": 169,
   "metadata": {},
   "outputs": [
    {
     "data": {
      "text/plain": [
       "'malgré un scénario moyen ce film  d animation se regarde bien même si la mise en route est difficile et que tout le début soit dans la bande annonce  le film est visuellement très beau également'"
      ]
     },
     "execution_count": 169,
     "metadata": {},
     "output_type": "execute_result"
    }
   ],
   "source": [
    "X['Description'][1]"
   ]
  },
  {
   "cell_type": "code",
   "execution_count": 171,
   "metadata": {},
   "outputs": [
    {
     "data": {
      "text/html": [
       "<div>\n",
       "<style scoped>\n",
       "    .dataframe tbody tr th:only-of-type {\n",
       "        vertical-align: middle;\n",
       "    }\n",
       "\n",
       "    .dataframe tbody tr th {\n",
       "        vertical-align: top;\n",
       "    }\n",
       "\n",
       "    .dataframe thead th {\n",
       "        text-align: right;\n",
       "    }\n",
       "</style>\n",
       "<table border=\"1\" class=\"dataframe\">\n",
       "  <thead>\n",
       "    <tr style=\"text-align: right;\">\n",
       "      <th></th>\n",
       "      <th>Description</th>\n",
       "      <th>key</th>\n",
       "    </tr>\n",
       "  </thead>\n",
       "  <tbody>\n",
       "    <tr>\n",
       "      <th>0</th>\n",
       "      <td>suite de bigfoot junior sorti en  revoici la f...</td>\n",
       "      <td>0</td>\n",
       "    </tr>\n",
       "    <tr>\n",
       "      <th>1</th>\n",
       "      <td>malgré un scénario moyen ce film  d animation ...</td>\n",
       "      <td>1</td>\n",
       "    </tr>\n",
       "    <tr>\n",
       "      <th>2</th>\n",
       "      <td>un debut laborieux qui se veut dans lair du te...</td>\n",
       "      <td>2</td>\n",
       "    </tr>\n",
       "    <tr>\n",
       "      <th>3</th>\n",
       "      <td>film vu au cinéma   tout dabord les graphismes...</td>\n",
       "      <td>3</td>\n",
       "    </tr>\n",
       "    <tr>\n",
       "      <th>4</th>\n",
       "      <td>nous avons adoré avec mon fils  je trouve que ...</td>\n",
       "      <td>4</td>\n",
       "    </tr>\n",
       "    <tr>\n",
       "      <th>5</th>\n",
       "      <td>vu en famille dont un enfant de  ans   nous av...</td>\n",
       "      <td>5</td>\n",
       "    </tr>\n",
       "    <tr>\n",
       "      <th>6</th>\n",
       "      <td>un film  très sympa agréable et le mieux à voi...</td>\n",
       "      <td>6</td>\n",
       "    </tr>\n",
       "  </tbody>\n",
       "</table>\n",
       "</div>"
      ],
      "text/plain": [
       "                                         Description  key\n",
       "0  suite de bigfoot junior sorti en  revoici la f...    0\n",
       "1  malgré un scénario moyen ce film  d animation ...    1\n",
       "2  un debut laborieux qui se veut dans lair du te...    2\n",
       "3  film vu au cinéma   tout dabord les graphismes...    3\n",
       "4  nous avons adoré avec mon fils  je trouve que ...    4\n",
       "5  vu en famille dont un enfant de  ans   nous av...    5\n",
       "6  un film  très sympa agréable et le mieux à voi...    6"
      ]
     },
     "execution_count": 171,
     "metadata": {},
     "output_type": "execute_result"
    }
   ],
   "source": [
    "X"
   ]
  },
  {
   "cell_type": "markdown",
   "metadata": {},
   "source": [
    "### Retire les mots inutiles"
   ]
  },
  {
   "cell_type": "markdown",
   "metadata": {},
   "source": [
    "avec NLTK https://www.datacorner.fr/du-nlp-avec-python-nltk/"
   ]
  },
  {
   "cell_type": "code",
   "execution_count": 172,
   "metadata": {},
   "outputs": [],
   "source": [
    "from nltk.corpus import stopwords\n",
    "from nltk import word_tokenize\n",
    "from nltk.stem.snowball import FrenchStemmer\n",
    "\n",
    "french_stopwords = set(stopwords.words('french'))\n",
    "filtre_stopfr =  lambda text: [token for token in text if token.lower() not in french_stopwords]"
   ]
  },
  {
   "cell_type": "code",
   "execution_count": 173,
   "metadata": {},
   "outputs": [
    {
     "data": {
      "text/plain": [
       "['malgré',\n",
       " 'scénario',\n",
       " 'moyen',\n",
       " 'film',\n",
       " 'animation',\n",
       " 'regarde',\n",
       " 'bien',\n",
       " 'si',\n",
       " 'mise',\n",
       " 'route',\n",
       " 'difficile',\n",
       " 'tout',\n",
       " 'début',\n",
       " 'bande',\n",
       " 'annonce',\n",
       " 'film',\n",
       " 'visuellement',\n",
       " 'très',\n",
       " 'beau',\n",
       " 'également']"
      ]
     },
     "execution_count": 173,
     "metadata": {},
     "output_type": "execute_result"
    }
   ],
   "source": [
    "X1 = filtre_stopfr(word_tokenize(X['Description'][1]) )\n",
    "X1"
   ]
  },
  {
   "cell_type": "code",
   "execution_count": 174,
   "metadata": {},
   "outputs": [
    {
     "data": {
      "text/plain": [
       "'malgré scénario moyen film animation regarde bien si mise route difficile tout début bande annonce film visuellement très beau également'"
      ]
     },
     "execution_count": 174,
     "metadata": {},
     "output_type": "execute_result"
    }
   ],
   "source": [
    "' '.join(X1)"
   ]
  },
  {
   "cell_type": "code",
   "execution_count": 175,
   "metadata": {},
   "outputs": [
    {
     "data": {
      "text/html": [
       "<div>\n",
       "<style scoped>\n",
       "    .dataframe tbody tr th:only-of-type {\n",
       "        vertical-align: middle;\n",
       "    }\n",
       "\n",
       "    .dataframe tbody tr th {\n",
       "        vertical-align: top;\n",
       "    }\n",
       "\n",
       "    .dataframe thead th {\n",
       "        text-align: right;\n",
       "    }\n",
       "</style>\n",
       "<table border=\"1\" class=\"dataframe\">\n",
       "  <thead>\n",
       "    <tr style=\"text-align: right;\">\n",
       "      <th></th>\n",
       "      <th>Description</th>\n",
       "      <th>key</th>\n",
       "    </tr>\n",
       "  </thead>\n",
       "  <tbody>\n",
       "    <tr>\n",
       "      <th>0</th>\n",
       "      <td>suite bigfoot junior sorti revoici famille big...</td>\n",
       "      <td>0</td>\n",
       "    </tr>\n",
       "    <tr>\n",
       "      <th>1</th>\n",
       "      <td>malgré scénario moyen film animation regarde b...</td>\n",
       "      <td>1</td>\n",
       "    </tr>\n",
       "    <tr>\n",
       "      <th>2</th>\n",
       "      <td>debut laborieux veut lair temps savère pauvre ...</td>\n",
       "      <td>2</td>\n",
       "    </tr>\n",
       "    <tr>\n",
       "      <th>3</th>\n",
       "      <td>film vu cinéma tout dabord graphismes agréable...</td>\n",
       "      <td>3</td>\n",
       "    </tr>\n",
       "    <tr>\n",
       "      <th>4</th>\n",
       "      <td>adoré fils trouve cest film quil faudrait mont...</td>\n",
       "      <td>4</td>\n",
       "    </tr>\n",
       "    <tr>\n",
       "      <th>5</th>\n",
       "      <td>vu famille dont enfant ans passé très bon mome...</td>\n",
       "      <td>5</td>\n",
       "    </tr>\n",
       "    <tr>\n",
       "      <th>6</th>\n",
       "      <td>film très sympa agréable mieux voir conseille ...</td>\n",
       "      <td>6</td>\n",
       "    </tr>\n",
       "  </tbody>\n",
       "</table>\n",
       "</div>"
      ],
      "text/plain": [
       "                                         Description  key\n",
       "0  suite bigfoot junior sorti revoici famille big...    0\n",
       "1  malgré scénario moyen film animation regarde b...    1\n",
       "2  debut laborieux veut lair temps savère pauvre ...    2\n",
       "3  film vu cinéma tout dabord graphismes agréable...    3\n",
       "4  adoré fils trouve cest film quil faudrait mont...    4\n",
       "5  vu famille dont enfant ans passé très bon mome...    5\n",
       "6  film très sympa agréable mieux voir conseille ...    6"
      ]
     },
     "execution_count": 175,
     "metadata": {},
     "output_type": "execute_result"
    }
   ],
   "source": [
    "X['Description'] = [' '.join(filtre_stopfr(word_tokenize(item))) for item in X['Description']]\n",
    "X"
   ]
  },
  {
   "cell_type": "code",
   "execution_count": 176,
   "metadata": {},
   "outputs": [
    {
     "data": {
      "text/plain": [
       "'malgré scénario moyen film animation regarde bien si mise route difficile tout début bande annonce film visuellement très beau également'"
      ]
     },
     "execution_count": 176,
     "metadata": {},
     "output_type": "execute_result"
    }
   ],
   "source": [
    "X['Description'][1]"
   ]
  },
  {
   "cell_type": "markdown",
   "metadata": {},
   "source": [
    "### Stemmatisation / racinistation"
   ]
  },
  {
   "cell_type": "code",
   "execution_count": 177,
   "metadata": {},
   "outputs": [],
   "source": [
    "stemmer = FrenchStemmer()\n",
    "X['Description'] = [stemmer.stem(w) for w in X['Description']]"
   ]
  },
  {
   "cell_type": "code",
   "execution_count": 181,
   "metadata": {},
   "outputs": [
    {
     "data": {
      "text/plain": [
       "0    suite bigfoot junior sorti revoici famille big...\n",
       "1    malgré scénario moyen film animation regarde b...\n",
       "2    debut laborieux veut lair temps savère pauvre ...\n",
       "3    film vu cinéma tout dabord graphismes agréable...\n",
       "4    adoré fils trouve cest film quil faudrait mont...\n",
       "5    vu famille dont enfant ans passé très bon mome...\n",
       "6    film très sympa agréable mieux voir conseille ...\n",
       "Name: Description, dtype: object"
      ]
     },
     "execution_count": 181,
     "metadata": {},
     "output_type": "execute_result"
    }
   ],
   "source": [
    "X['Description']"
   ]
  },
  {
   "cell_type": "code",
   "execution_count": 179,
   "metadata": {},
   "outputs": [
    {
     "data": {
      "text/plain": [
       "'malgré scénario moyen film animation regarde bien si mise route difficile tout début bande annonce film visuellement très beau égal'"
      ]
     },
     "execution_count": 179,
     "metadata": {},
     "output_type": "execute_result"
    }
   ],
   "source": [
    "X['Description'][1]"
   ]
  },
  {
   "cell_type": "markdown",
   "metadata": {},
   "source": [
    "# Fonction de préparation"
   ]
  },
  {
   "cell_type": "code",
   "execution_count": 193,
   "metadata": {},
   "outputs": [],
   "source": [
    "REMPLACE_SANS_ESPACE = re.compile(\"[;:!\\'?,\\\"()\\[\\]]\")\n",
    "REMPLACE_AVEC_ESPACE = re.compile(\"(<br\\s*/><br\\s*/>)|(\\-)|(\\/)|[.]\")\n",
    "PUR_NOMBRE = re.compile(\"[0-9]\")\n",
    "\n",
    "def setClassBin(i):\n",
    "    if (float(i.replace(',', '.')) > 3):\n",
    "        return 1\n",
    "    else:\n",
    "        return 0\n",
    "    \n",
    "def preprocess_reviews(reviews):\n",
    "    reviews = [PUR_NOMBRE.sub(\"\", line.lower()) for line in reviews] # retire les nomre (comme les années)\n",
    "    reviews = [line.replace('\\n', ' ')  for line in reviews] # Retire les \\n (retours chariots)\n",
    "    reviews = [REMPLACE_SANS_ESPACE.sub(\"\", line.lower()) for line in reviews]\n",
    "    reviews = [REMPLACE_AVEC_ESPACE.sub(\" \", line) for line in reviews]\n",
    "    return reviews\n",
    "\n",
    "def prepare_dataset(X):\n",
    "    X['Description'] = pd.DataFrame(preprocess_reviews(X['Description']))\n",
    "    french_stopwords = set(stopwords.words('french'))\n",
    "    filtre_stopfr =  lambda text: [token for token in text if token.lower() not in french_stopwords]\n",
    "    X['Description'] = [' '.join(filtre_stopfr(word_tokenize(item))) for item in X['Description']]\n",
    "    stemmer = FrenchStemmer()\n",
    "    X['Description'] = [stemmer.stem(w) for w in X['Description']]\n",
    "    \n",
    "    yList = [setClassBin(x) for x in X.Note]\n",
    "    y = pd.DataFrame(yList)\n",
    "    \n",
    "    X = src.drop('Note', axis=1)\n",
    "    return X, y"
   ]
  },
  {
   "cell_type": "code",
   "execution_count": 194,
   "metadata": {},
   "outputs": [],
   "source": [
    "XTrain, yTrain = prepare_dataset(src.copy())"
   ]
  },
  {
   "cell_type": "code",
   "execution_count": 195,
   "metadata": {},
   "outputs": [
    {
     "data": {
      "text/html": [
       "<div>\n",
       "<style scoped>\n",
       "    .dataframe tbody tr th:only-of-type {\n",
       "        vertical-align: middle;\n",
       "    }\n",
       "\n",
       "    .dataframe tbody tr th {\n",
       "        vertical-align: top;\n",
       "    }\n",
       "\n",
       "    .dataframe thead th {\n",
       "        text-align: right;\n",
       "    }\n",
       "</style>\n",
       "<table border=\"1\" class=\"dataframe\">\n",
       "  <thead>\n",
       "    <tr style=\"text-align: right;\">\n",
       "      <th></th>\n",
       "      <th>Description</th>\n",
       "      <th>key</th>\n",
       "    </tr>\n",
       "  </thead>\n",
       "  <tbody>\n",
       "    <tr>\n",
       "      <th>0</th>\n",
       "      <td>Suite de \"Bigfoot Junior\" sorti en 2017, revoi...</td>\n",
       "      <td>0</td>\n",
       "    </tr>\n",
       "    <tr>\n",
       "      <th>1</th>\n",
       "      <td>malgré un scénario moyen ce film  d animation ...</td>\n",
       "      <td>1</td>\n",
       "    </tr>\n",
       "    <tr>\n",
       "      <th>2</th>\n",
       "      <td>Un debut laborieux qui se veut dans l'air du t...</td>\n",
       "      <td>2</td>\n",
       "    </tr>\n",
       "    <tr>\n",
       "      <th>3</th>\n",
       "      <td>Film vu au cinéma. \\nTout d'abord, les graphis...</td>\n",
       "      <td>3</td>\n",
       "    </tr>\n",
       "    <tr>\n",
       "      <th>4</th>\n",
       "      <td>Nous avons adoré avec mon fils. Je trouve que ...</td>\n",
       "      <td>4</td>\n",
       "    </tr>\n",
       "    <tr>\n",
       "      <th>5</th>\n",
       "      <td>Vu en famille, dont un enfant de 4 ans 1/2, no...</td>\n",
       "      <td>5</td>\n",
       "    </tr>\n",
       "    <tr>\n",
       "      <th>6</th>\n",
       "      <td>un film  très sympa ,agréable et le mieux à vo...</td>\n",
       "      <td>6</td>\n",
       "    </tr>\n",
       "  </tbody>\n",
       "</table>\n",
       "</div>"
      ],
      "text/plain": [
       "                                         Description  key\n",
       "0  Suite de \"Bigfoot Junior\" sorti en 2017, revoi...    0\n",
       "1  malgré un scénario moyen ce film  d animation ...    1\n",
       "2  Un debut laborieux qui se veut dans l'air du t...    2\n",
       "3  Film vu au cinéma. \\nTout d'abord, les graphis...    3\n",
       "4  Nous avons adoré avec mon fils. Je trouve que ...    4\n",
       "5  Vu en famille, dont un enfant de 4 ans 1/2, no...    5\n",
       "6  un film  très sympa ,agréable et le mieux à vo...    6"
      ]
     },
     "execution_count": 195,
     "metadata": {},
     "output_type": "execute_result"
    }
   ],
   "source": [
    "XTrain"
   ]
  },
  {
   "cell_type": "code",
   "execution_count": 196,
   "metadata": {},
   "outputs": [
    {
     "data": {
      "text/html": [
       "<div>\n",
       "<style scoped>\n",
       "    .dataframe tbody tr th:only-of-type {\n",
       "        vertical-align: middle;\n",
       "    }\n",
       "\n",
       "    .dataframe tbody tr th {\n",
       "        vertical-align: top;\n",
       "    }\n",
       "\n",
       "    .dataframe thead th {\n",
       "        text-align: right;\n",
       "    }\n",
       "</style>\n",
       "<table border=\"1\" class=\"dataframe\">\n",
       "  <thead>\n",
       "    <tr style=\"text-align: right;\">\n",
       "      <th></th>\n",
       "      <th>0</th>\n",
       "    </tr>\n",
       "  </thead>\n",
       "  <tbody>\n",
       "    <tr>\n",
       "      <th>0</th>\n",
       "      <td>0</td>\n",
       "    </tr>\n",
       "    <tr>\n",
       "      <th>1</th>\n",
       "      <td>0</td>\n",
       "    </tr>\n",
       "    <tr>\n",
       "      <th>2</th>\n",
       "      <td>0</td>\n",
       "    </tr>\n",
       "    <tr>\n",
       "      <th>3</th>\n",
       "      <td>1</td>\n",
       "    </tr>\n",
       "    <tr>\n",
       "      <th>4</th>\n",
       "      <td>1</td>\n",
       "    </tr>\n",
       "    <tr>\n",
       "      <th>5</th>\n",
       "      <td>1</td>\n",
       "    </tr>\n",
       "    <tr>\n",
       "      <th>6</th>\n",
       "      <td>1</td>\n",
       "    </tr>\n",
       "  </tbody>\n",
       "</table>\n",
       "</div>"
      ],
      "text/plain": [
       "   0\n",
       "0  0\n",
       "1  0\n",
       "2  0\n",
       "3  1\n",
       "4  1\n",
       "5  1\n",
       "6  1"
      ]
     },
     "execution_count": 196,
     "metadata": {},
     "output_type": "execute_result"
    }
   ],
   "source": [
    "yTrain"
   ]
  },
  {
   "cell_type": "code",
   "execution_count": null,
   "metadata": {},
   "outputs": [],
   "source": []
  }
 ],
 "metadata": {
  "kernelspec": {
   "display_name": "Python 3",
   "language": "python",
   "name": "python3"
  },
  "language_info": {
   "codemirror_mode": {
    "name": "ipython",
    "version": 3
   },
   "file_extension": ".py",
   "mimetype": "text/x-python",
   "name": "python",
   "nbconvert_exporter": "python",
   "pygments_lexer": "ipython3",
   "version": "3.7.6"
  }
 },
 "nbformat": 4,
 "nbformat_minor": 4
}
