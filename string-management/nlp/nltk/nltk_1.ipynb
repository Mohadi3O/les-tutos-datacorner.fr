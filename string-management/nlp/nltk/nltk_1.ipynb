{
 "cells": [
  {
   "cell_type": "markdown",
   "metadata": {},
   "source": [
    "pip install nltk"
   ]
  },
  {
   "cell_type": "code",
   "execution_count": 29,
   "metadata": {},
   "outputs": [],
   "source": [
    "import nltk"
   ]
  },
  {
   "cell_type": "code",
   "execution_count": null,
   "metadata": {},
   "outputs": [],
   "source": [
    "nltk.download()"
   ]
  },
  {
   "cell_type": "code",
   "execution_count": 18,
   "metadata": {},
   "outputs": [],
   "source": [
    "from nltk.corpus import stopwords\n",
    "from nltk import word_tokenize\n",
    "from nltk.tokenize import sent_tokenize\n",
    "from nltk.stem.snowball import FrenchStemmer\n",
    "import re"
   ]
  },
  {
   "cell_type": "code",
   "execution_count": 19,
   "metadata": {},
   "outputs": [],
   "source": [
    "data = u\"\"\"Wikipédia est un projet wiki d’encyclopédie collective en ligne, universelle, multilingue et fonctionnant sur le principe du wiki. Aimez-vous l'encyclopédie wikipedia ?\"\"\""
   ]
  },
  {
   "cell_type": "markdown",
   "metadata": {},
   "source": [
    "### Récupération des stop words Français / création d'une fonction de filtre avec ces stopwords"
   ]
  },
  {
   "cell_type": "code",
   "execution_count": 20,
   "metadata": {},
   "outputs": [],
   "source": [
    "french_stopwords = set(stopwords.words('french'))"
   ]
  },
  {
   "cell_type": "code",
   "execution_count": 21,
   "metadata": {},
   "outputs": [],
   "source": [
    "filtre_stopfr =  lambda text: [token for token in text if token.lower() not in french_stopwords]"
   ]
  },
  {
   "cell_type": "code",
   "execution_count": 22,
   "metadata": {},
   "outputs": [
    {
     "data": {
      "text/plain": [
       "['Wikipédia',\n",
       " 'projet',\n",
       " 'wiki',\n",
       " '’',\n",
       " 'encyclopédie',\n",
       " 'collective',\n",
       " 'ligne',\n",
       " ',',\n",
       " 'universelle',\n",
       " ',',\n",
       " 'multilingue',\n",
       " 'fonctionnant',\n",
       " 'principe',\n",
       " 'wiki',\n",
       " '.',\n",
       " 'Aimez-vous',\n",
       " \"l'encyclopédie\",\n",
       " 'wikipedia',\n",
       " '?']"
      ]
     },
     "execution_count": 22,
     "metadata": {},
     "output_type": "execute_result"
    }
   ],
   "source": [
    "filtre_stopfr( word_tokenize(data, language=\"french\") )"
   ]
  },
  {
   "cell_type": "markdown",
   "metadata": {},
   "source": [
    "### Découpage avec RegEx"
   ]
  },
  {
   "cell_type": "code",
   "execution_count": 23,
   "metadata": {},
   "outputs": [],
   "source": [
    "sp_pattern = re.compile( \"\"\"[\\.\\!\\\"\\s\\?\\-\\,\\']+\"\"\", re.M).split"
   ]
  },
  {
   "cell_type": "code",
   "execution_count": 24,
   "metadata": {},
   "outputs": [
    {
     "data": {
      "text/plain": [
       "['Wikipédia',\n",
       " 'est',\n",
       " 'un',\n",
       " 'projet',\n",
       " 'wiki',\n",
       " 'd’encyclopédie',\n",
       " 'collective',\n",
       " 'en',\n",
       " 'ligne',\n",
       " 'universelle',\n",
       " 'multilingue',\n",
       " 'et',\n",
       " 'fonctionnant',\n",
       " 'sur',\n",
       " 'le',\n",
       " 'principe',\n",
       " 'du',\n",
       " 'wiki',\n",
       " 'Aimez',\n",
       " 'vous',\n",
       " 'l',\n",
       " 'encyclopédie',\n",
       " 'wikipedia',\n",
       " '']"
      ]
     },
     "execution_count": 24,
     "metadata": {},
     "output_type": "execute_result"
    }
   ],
   "source": [
    "sp_pattern(data)"
   ]
  },
  {
   "cell_type": "markdown",
   "metadata": {},
   "source": [
    "## Tokenisation"
   ]
  },
  {
   "cell_type": "code",
   "execution_count": 25,
   "metadata": {},
   "outputs": [
    {
     "data": {
      "text/plain": [
       "['Wikipédia',\n",
       " 'est',\n",
       " 'un',\n",
       " 'projet',\n",
       " 'wiki',\n",
       " 'd',\n",
       " '’',\n",
       " 'encyclopédie',\n",
       " 'collective',\n",
       " 'en',\n",
       " 'ligne',\n",
       " ',',\n",
       " 'universelle',\n",
       " ',',\n",
       " 'multilingue',\n",
       " 'et',\n",
       " 'fonctionnant',\n",
       " 'sur',\n",
       " 'le',\n",
       " 'principe',\n",
       " 'du',\n",
       " 'wiki',\n",
       " '.',\n",
       " 'Aimez-vous',\n",
       " \"l'encyclopédie\",\n",
       " 'wikipedia',\n",
       " '?']"
      ]
     },
     "execution_count": 25,
     "metadata": {},
     "output_type": "execute_result"
    }
   ],
   "source": [
    "word_tokenize(data, language=\"french\")"
   ]
  },
  {
   "cell_type": "code",
   "execution_count": 26,
   "metadata": {},
   "outputs": [
    {
     "data": {
      "text/plain": [
       "['Wikipédia',\n",
       " 'projet',\n",
       " 'wiki',\n",
       " '’',\n",
       " 'encyclopédie',\n",
       " 'collective',\n",
       " 'ligne',\n",
       " ',',\n",
       " 'universelle',\n",
       " ',',\n",
       " 'multilingue',\n",
       " 'fonctionnant',\n",
       " 'principe',\n",
       " 'wiki',\n",
       " '.',\n",
       " 'Aimez-vous',\n",
       " \"l'encyclopédie\",\n",
       " 'wikipedia',\n",
       " '?']"
      ]
     },
     "execution_count": 26,
     "metadata": {},
     "output_type": "execute_result"
    }
   ],
   "source": [
    "phfr = filtre_stopfr( word_tokenize(data, language=\"french\") )\n",
    "phfr"
   ]
  },
  {
   "cell_type": "markdown",
   "metadata": {},
   "source": [
    "### Tokenisation de phrase"
   ]
  },
  {
   "cell_type": "code",
   "execution_count": 27,
   "metadata": {},
   "outputs": [
    {
     "data": {
      "text/plain": [
       "['Wikipédia est un projet wiki d’encyclopédie collective en ligne, universelle, multilingue et fonctionnant sur le principe du wiki.',\n",
       " \"Aimez-vous l'encyclopédie wikipedia ?\"]"
      ]
     },
     "execution_count": 27,
     "metadata": {},
     "output_type": "execute_result"
    }
   ],
   "source": [
    "sent_tokenize(data, language=\"french\")"
   ]
  },
  {
   "cell_type": "markdown",
   "metadata": {},
   "source": [
    "## Fréquence de distribution des valeurs"
   ]
  },
  {
   "cell_type": "code",
   "execution_count": 30,
   "metadata": {},
   "outputs": [
    {
     "name": "stdout",
     "output_type": "stream",
     "text": [
      "[('wiki', 2), (',', 2), ('Wikipédia', 1), ('projet', 1), ('’', 1), ('encyclopédie', 1), ('collective', 1), ('ligne', 1), ('universelle', 1), ('multilingue', 1), ('fonctionnant', 1), ('principe', 1), ('.', 1), ('Aimez-vous', 1), (\"l'encyclopédie\", 1), ('wikipedia', 1), ('?', 1)]\n"
     ]
    }
   ],
   "source": [
    "fd = nltk.FreqDist(phfr) \n",
    "print(fd.most_common())"
   ]
  },
  {
   "cell_type": "markdown",
   "metadata": {},
   "source": [
    "## \"Racinisation\" ou Stemming"
   ]
  },
  {
   "cell_type": "code",
   "execution_count": 31,
   "metadata": {},
   "outputs": [
    {
     "name": "stdout",
     "output_type": "stream",
     "text": [
      "don\n",
      "don\n",
      "don\n",
      "don\n",
      "don\n",
      "test\n"
     ]
    }
   ],
   "source": [
    "example_words = [\"donner\",\"don\",\"donne\",\"donnera\",\"dons\",\"test\"]\n",
    "stemmer = FrenchStemmer()\n",
    "\n",
    "for w in example_words:\n",
    "    print(stemmer.stem(w))"
   ]
  },
  {
   "cell_type": "code",
   "execution_count": 36,
   "metadata": {},
   "outputs": [
    {
     "data": {
      "text/plain": [
       "list"
      ]
     },
     "execution_count": 36,
     "metadata": {},
     "output_type": "execute_result"
    }
   ],
   "source": [
    "type (phfr)"
   ]
  },
  {
   "cell_type": "code",
   "execution_count": 40,
   "metadata": {},
   "outputs": [
    {
     "data": {
      "text/plain": [
       "['wikipédi',\n",
       " 'projet',\n",
       " 'wik',\n",
       " '’',\n",
       " 'encycloped',\n",
       " 'collect',\n",
       " 'lign',\n",
       " ',',\n",
       " 'universel',\n",
       " ',',\n",
       " 'multilingu',\n",
       " 'fonction',\n",
       " 'princip',\n",
       " 'wik',\n",
       " '.',\n",
       " 'aimez-vous',\n",
       " \"l'encycloped\",\n",
       " 'wikipedi',\n",
       " '?']"
      ]
     },
     "execution_count": 40,
     "metadata": {},
     "output_type": "execute_result"
    }
   ],
   "source": [
    "phfrlist = [stemmer.stem(x) for x in phfr]\n",
    "phfrlist"
   ]
  },
  {
   "cell_type": "code",
   "execution_count": null,
   "metadata": {},
   "outputs": [],
   "source": []
  }
 ],
 "metadata": {
  "kernelspec": {
   "display_name": "Python 3",
   "language": "python",
   "name": "python3"
  },
  "language_info": {
   "codemirror_mode": {
    "name": "ipython",
    "version": 3
   },
   "file_extension": ".py",
   "mimetype": "text/x-python",
   "name": "python",
   "nbconvert_exporter": "python",
   "pygments_lexer": "ipython3",
   "version": "3.7.6"
  }
 },
 "nbformat": 4,
 "nbformat_minor": 4
}
